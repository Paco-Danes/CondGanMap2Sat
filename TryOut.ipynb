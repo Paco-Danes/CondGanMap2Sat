{
  "nbformat": 4,
  "nbformat_minor": 0,
  "metadata": {
    "colab": {
      "provenance": [],
      "authorship_tag": "ABX9TyPeBOXb4eXjLYiQlCbHtje/",
      "include_colab_link": true
    },
    "kernelspec": {
      "name": "python3",
      "display_name": "Python 3"
    },
    "language_info": {
      "name": "python"
    }
  },
  "cells": [
    {
      "cell_type": "markdown",
      "metadata": {
        "id": "view-in-github",
        "colab_type": "text"
      },
      "source": [
        "<a href=\"https://colab.research.google.com/github/Paco-Danes/CondGanMap2Sat/blob/main/TryOut.ipynb\" target=\"_parent\"><img src=\"https://colab.research.google.com/assets/colab-badge.svg\" alt=\"Open In Colab\"/></a>"
      ]
    },
    {
      "cell_type": "code",
      "execution_count": null,
      "metadata": {
        "id": "8xR0WWdeiVvY"
      },
      "outputs": [],
      "source": [
        "!unzip /content/drive/MyDrive/TestSetEdi/test_tiles_edi.zip > /dev/null"
      ]
    },
    {
      "cell_type": "code",
      "source": [
        "!unzip /content/drive/MyDrive/TestSetEdi/tiles_central-belt7500.zip> /dev/null"
      ],
      "metadata": {
        "id": "GaQk7vQkiYbf"
      },
      "execution_count": null,
      "outputs": []
    },
    {
      "cell_type": "code",
      "source": [
        "EdiBigGen_PATH = \"\"\n",
        "EdiRefDivergence_PATH = \"\"\n",
        "CentralBeltBigGen_PATH = \"\"\n",
        "SmallGenCentralBelt_PATH = \"\""
      ],
      "metadata": {
        "id": "NX5YRmPLjS3n"
      },
      "execution_count": null,
      "outputs": []
    },
    {
      "cell_type": "code",
      "source": [
        "#@title Load models and test set for evaluation.\n",
        "# Load models trained on Edinburgh dataset\n",
        "BigGenEdi = BigGen(num_classes=3).cuda()\n",
        "DivGenEdi = BigGen(num_classes=3).cuda()\n",
        "cp_BigGenEdi = torch.load(EdiBigGen_PATH)\n",
        "cp_DivGenEdi = torch.load(EdiRefDivergence_PATH)\n",
        "BigGenEdi.load_state_dict(cp_BigGenEdi['gen_state_dict'])\n",
        "DivGenEdi.load_state_dict(cp_DivGenEdi['gen_state_dict'])\n",
        "\n",
        "# Load models trained on CentralBelt (50'000) dataset\n",
        "BigGenCent = BigGen(num_classes=3).cuda()\n",
        "cp_BigGenCent = torch.load(CentralBeltBigGen_PATH)\n",
        "BigGenCent.load_state_dict(cp_BigGenCent['gen_state_dict'])\n",
        "SmallGenCent = Generator(num_classes=3).cuda()\n",
        "cp_SmallGenCent = torch.load(SmallGenCentralBelt_PATH)\n",
        "SmallGenCent.load_state_dict(cp_SmallGenCent['gen_state_dict'])\n",
        "\n",
        "# Set the models to evaluation mode\n",
        "BigGenEdi.eval()\n",
        "DivGenEdi.eval()\n",
        "BigGenCent.eval()\n",
        "\n",
        "# Double gan: BigGen + refinement\n",
        "divergenceNet = nn.Sequential(\n",
        "    BigGenEdi,\n",
        "    DivGenEdi\n",
        ")\n",
        "\n",
        "# Move the sequential model to GPU if available\n",
        "divergenceNet = divergenceNet.cuda()\n",
        "\n",
        "transform = transforms.Compose([\n",
        "    transforms.ToTensor(),\n",
        "])\n",
        "\n",
        "# Replace 'source_folder' and 'target_folder' with your actual folder paths\n",
        "test_dataset_edi = InMemoryCustomDataset(source_dir='/content/tiles_edi1000/openstreetmap',\n",
        "                                      target_dir='/content/tiles_edi1000/worldimagery-clarity',\n",
        "                                      transform=transform,\n",
        "                                      augment_rotation=False)\n",
        "\n",
        "test_dataset_central = InMemoryCustomDataset(source_dir='/content/tiles_central-belt7500/openstreetmap',\n",
        "                                      target_dir='/content/tiles_central-belt7500/worldimagery-clarity',\n",
        "                                      transform=transform,\n",
        "                                      augment_rotation=False)\n",
        "\n",
        "\n",
        "print(\"Number of test images-edi: \", len(test_dataset_edi))\n",
        "print(\"Number of test images-central: \", len(test_dataset_central))"
      ],
      "metadata": {
        "cellView": "form",
        "id": "_e6UH5l1iaKJ"
      },
      "execution_count": null,
      "outputs": []
    },
    {
      "cell_type": "code",
      "source": [
        "# @title Test images Show-Off, comparison between 2 models\n",
        "def showOff(first_m, second_m, data):\n",
        "  # Get a batch of images from the test loader\n",
        "  test_loader = DataLoader(data, batch_size=6, shuffle=True)\n",
        "  data_iterator = iter(test_loader)\n",
        "  images = next(data_iterator)\n",
        "\n",
        "  # Extract source images\n",
        "  source_images = images['source_image'].to('cuda')\n",
        "  # Generate target imgs using source imgs with both models, BigGen and BigGen+Refinement\n",
        "  with torch.no_grad():\n",
        "      gen_no_ref = first_m(source_images)\n",
        "      generated_targets = second_m(source_images)\n",
        "\n",
        "  # Plot everything, rows: source; BigGen; BigGen + Refinement\n",
        "  fig, axes = plt.subplots(3, 6, figsize=(12, 7))\n",
        "\n",
        "  for i in range(6):\n",
        "      source_img = source_images[i].cpu().permute(1, 2, 0)\n",
        "      gen_img = gen_no_ref[i].cpu().permute(1, 2, 0)\n",
        "      gen_img_ref = generated_targets[i].cpu().permute(1, 2, 0)\n",
        "\n",
        "      axes[0, i].imshow(source_img)\n",
        "      axes[0, i].axis('off')\n",
        "      axes[1, i].imshow(np.clip(gen_img, 0, 1))\n",
        "      axes[1, i].axis('off')\n",
        "      axes[2, i].imshow(np.clip(gen_img_ref, 0, 1))\n",
        "      axes[2, i].axis('off')\n",
        "\n",
        "  plt.tight_layout()\n",
        "  plt.show()"
      ],
      "metadata": {
        "cellView": "form",
        "id": "qMgeQL8hijwj"
      },
      "execution_count": null,
      "outputs": []
    },
    {
      "cell_type": "code",
      "source": [
        "# Edinburgh: SingleGan Vs Gan+Refinement\n",
        "showOff(BigGenEdi, divergenceNet, test_dataset_edi)"
      ],
      "metadata": {
        "id": "5X_Fwu7ZipM8"
      },
      "execution_count": null,
      "outputs": []
    },
    {
      "cell_type": "code",
      "source": [
        "# Central Belt, Small Generator vs Big Generator\n",
        "showOff(SmallGenCent, BigGenCent,  test_dataset_central)"
      ],
      "metadata": {
        "id": "ZmOf6zw0ir-k"
      },
      "execution_count": null,
      "outputs": []
    }
  ]
}