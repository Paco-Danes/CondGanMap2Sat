{
  "cells": [
    {
      "cell_type": "markdown",
      "id": "540d8642-c203-471c-a66d-0d43aabb0706",
      "metadata": {
        "id": "540d8642-c203-471c-a66d-0d43aabb0706"
      },
      "source": [
        "# StyleAligned: Zero-Shot Style Alignment among a Series of Generated Images via Attention Sharing\n",
        "\n",
        "### **Authors**: ***Borgi Alessio***, ***Danese Francesco***\n",
        "\n",
        "### **Abstract**\n",
        "In this notebook we aim to reproduce and enhance **[StyleAligned](https://arxiv.org/abs/2312.02133)**, a novel technique introduced by **Google Research**, for achieving **Style Consistency** in large-scale Text-to-Image (T2I) generative models. While current T2I models excel in creating visually compelling images from textual descriptions, they often struggle to maintain a consistent style across multiple images generated. Traditional methods to address this require extensive fine-tuning and manual intervention.\n",
        "\n",
        "**StyleAligned** addresses this challenge by introducing minimal **Attention Sharing** during the **Diffusion Process**, ensuring **Style Alignment among generated images** without the need for optimization or fine-tuning (**Zero-Shoot Inference**). The method operates by leveraging a straightforward inversion operation to apply a reference style across various generated images, maintaining high-quality synthesis and fidelity to the provided text prompts."
      ]
    },
    {
      "cell_type": "markdown",
      "id": "7f82b07b",
      "metadata": {
        "id": "7f82b07b"
      },
      "source": [
        "### 0: SETTINGS & IMPORTS"
      ]
    },
    {
      "cell_type": "markdown",
      "id": "cc07f09c",
      "metadata": {
        "id": "cc07f09c"
      },
      "source": [
        "#### 0.1: CLONE REPOSITORY AND GIT SETUP\n",
        "\n",
        "In the following cell, we setup the code, by cloning the repository, setting up the Git configurations, and providing some other useful commands useful for git.  "
      ]
    },
    {
      "cell_type": "code",
      "execution_count": null,
      "id": "100b46dd",
      "metadata": {
        "colab": {
          "base_uri": "https://localhost:8080/"
        },
        "id": "100b46dd",
        "outputId": "dc0d298e-2268-457e-c8c6-9dcc40dafa20"
      },
      "outputs": [
        {
          "name": "stdout",
          "output_type": "stream",
          "text": [
            "Cloning into 'StyleAlignedDiffModels'...\n",
            "remote: Enumerating objects: 124, done.\u001b[K\n",
            "remote: Counting objects: 100% (124/124), done.\u001b[K\n",
            "remote: Compressing objects: 100% (98/98), done.\u001b[K\n",
            "remote: Total 124 (delta 66), reused 50 (delta 19), pack-reused 0\u001b[K\n",
            "Receiving objects: 100% (124/124), 16.40 MiB | 9.91 MiB/s, done.\n",
            "Resolving deltas: 100% (66/66), done.\n",
            "/content/StyleAlignedDiffModels\n",
            "\u001b[0m\u001b[01;34mimgs\u001b[0m/         README.md         \u001b[01;34msrc\u001b[0m/                            Style_Aligned_Transfer_SDXL.ipynb\n",
            "inversion.py  requirements.txt  StyleAligned_Explanation.ipynb  TO-DO.txt\n",
            "LICENSE       sa_handler.py     Style_Aligned_SDXL_old.ipynb\n"
          ]
        }
      ],
      "source": [
        "# Clone the repository\n",
        "!git clone https://github.com/alessioborgi/StyleAlignedDiffModels.git\n",
        "\n",
        "# Change directory to the cloned repository\n",
        "%cd StyleAlignedDiffModels\n",
        "%ls\n",
        "\n",
        "# Set up Git configuration\n",
        "!git config --global user.name \"Alessio Borgi\"\n",
        "!git config --global user.email \"alessioborgi3@gmail.com\"\n",
        "\n",
        "# Stage the changes\n",
        "#!git add .\n",
        "\n",
        "# Commit the changes\n",
        "#!git commit -m \"Added some content to your-file.txt\"\n",
        "\n",
        "# Push the changes (replace 'your-token' with your actual personal access token)\n",
        "#!git push origin main"
      ]
    },
    {
      "cell_type": "markdown",
      "id": "5f941e8d",
      "metadata": {
        "id": "5f941e8d"
      },
      "source": [
        "#### 0.2: INSTALL AND IMPORT REQUIRED LIBRARIES\n",
        "\n",
        "We proceed then by installing and importing the required libraries."
      ]
    },
    {
      "cell_type": "code",
      "execution_count": null,
      "id": "94180e84",
      "metadata": {
        "id": "94180e84"
      },
      "outputs": [],
      "source": [
        "# Install the required packages\n",
        "!pip install -r requirements.txt > /dev/null"
      ]
    },
    {
      "cell_type": "code",
      "execution_count": null,
      "id": "23d54ea7-f7ab-4548-9b10-ece87216dc18",
      "metadata": {
        "colab": {
          "base_uri": "https://localhost:8080/",
          "height": 87,
          "referenced_widgets": [
            "5f7997cd2b0b4136a86e3be938138ef4",
            "169c007fe65c4963bc27aab517b24cb8",
            "995f9f48a02f498f90306eebcb2cda8e",
            "f5eaa36e07c148c3a670a983fa34d2ea",
            "fc1629ba1f0442da9187f7c431317091",
            "1ddcfcc473fe434c96afec08ab6d4c91",
            "354313f61a1c4b6dae6c04379863f839",
            "1250b69ca7854136a792a2fc6280197a",
            "7426a510d3a64b31b4172ed67de9ca01",
            "4ca2f1f6040d4d20937812ed2dee8dd5",
            "f351d052c36848c3b15a50c0e13c9e68"
          ]
        },
        "collapsed": true,
        "id": "23d54ea7-f7ab-4548-9b10-ece87216dc18",
        "outputId": "3574d016-7ea0-4287-90ec-415182548b42"
      },
      "outputs": [
        {
          "name": "stderr",
          "output_type": "stream",
          "text": [
            "The cache for model files in Transformers v4.22.0 has been updated. Migrating your old cache. This is a one-time only operation. You can interrupt this and resume the migration later on by calling `transformers.utils.move_cache()`.\n"
          ]
        },
        {
          "data": {
            "application/vnd.jupyter.widget-view+json": {
              "model_id": "5f7997cd2b0b4136a86e3be938138ef4",
              "version_major": 2,
              "version_minor": 0
            },
            "text/plain": [
              "0it [00:00, ?it/s]"
            ]
          },
          "metadata": {},
          "output_type": "display_data"
        }
      ],
      "source": [
        "import torch\n",
        "import einops\n",
        "import mediapy\n",
        "import numpy as np\n",
        "import torch.nn as nn\n",
        "from tqdm import tqdm\n",
        "from typing import Callable\n",
        "from dataclasses import dataclass\n",
        "from __future__ import annotations\n",
        "from diffusers.utils import load_image\n",
        "from torch.nn import functional as nnf\n",
        "from diffusers.models import attention_processor\n",
        "from diffusers import StableDiffusionXLPipeline, DDIMScheduler"
      ]
    },
    {
      "cell_type": "markdown",
      "id": "f340ee7f",
      "metadata": {
        "id": "f340ee7f"
      },
      "source": [
        "### 1: UTILS IMPLEMENTATION"
      ]
    },
    {
      "cell_type": "markdown",
      "id": "5dd91c40",
      "metadata": {
        "id": "5dd91c40"
      },
      "source": [
        "#### 1.1: ADAIN MODULE\n",
        "\n",
        "The **[Adaptive Instance Normalization (AdaIN)](https://arxiv.org/abs/1703.06868)** module is essential for **StyleAligned**. This works by first computing the mean and standard deviation of the input feature tensor $x$, independently for each feature map. The mean $\\mu_x$ and standard deviation $\\sigma_x$ are calculated as: $$\\mu_x = \\frac{1}{HW} \\sum_{i=1}^{H} \\sum_{j=1}^{W} x_{ij}$$ and $$\\sigma_x = \\sqrt{\\frac{1}{HW} \\sum_{i=1}^{H} \\sum_{j=1}^{W} (x_{ij} - \\mu_x)^2 + \\epsilon}$$ where $H$ and $W$ are the height and width of the feature map, respectively, and $\\epsilon$ is a small constant for numerical stability. These statistics are then matched to those of the style features $y$ by normalizing the input features $x$ and then scaling and shifting them using the style's mean $\\mu_y$ and standard deviation $\\sigma_y$.\n",
        "\n",
        "The transformed feature tensor is given by: $$\\text{AdaIN}(x, y) = \\sigma_y \\left( \\frac{x - \\mu_x}{\\sigma_x} \\right) + \\mu_y$$\n",
        "\n",
        "AdaIN receives a content input $x$ and a style input $y$, and simply aligns the channel wise mean and variance of $x$ to match those of $y$.\n",
        "This process enables the content to adopt the style's statistical properties, facilitating effective style transfer, adding almost no computational cost.\n",
        "\n",
        "In the StyleAligned project, instead of applying this normalization on convolutional-extracted feature maps, we embed it in the self attention layer: the AdaIN module is utilized to normalize the Queries $Q_t$ and Keys $K_t$ of the target image using the Queries $Q_r$ and Keys $K_r$ of the reference image:\n",
        "\n",
        "$$\\hat Q_t = \\text{AdaIN}(Q_t, Q_r) \\;\\;\\;\\;\\;\\;\\;\\;\\;\\;\\;\\;\\;\\; \\hat K_t = \\text{AdaIN}(K_t, K_r)$$\n",
        "\n",
        "For the images in the first half of the batch, the reference image is the first one in the batch; for the second half of the batch the reference is the image in the middle of the entire batch (index = batchsize//2). Note that the middle image is dependent on the first one, therefore the same style is transmitted throughout the whole batch, while slightly increasing diversity.\n",
        "\n",
        "**Appendix:**\n",
        "\n",
        "How are Queries, Keys and Values constructed if the previous layer is a convolutional layer? Suppose the convolution resulted in a feature map of size (batch, channels, height, width); then each \"pixel\" is considered a token with its channels as dimensions/features of the token, resulting in *height $×$ width* tokens, ready to be projected into Q, K and V via learnable linear layers. (See image below)"
      ]
    },
    {
      "cell_type": "markdown",
      "source": [
        "![Untitled Diagram (2).png](data:image/png;base64,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)"
      ],
      "metadata": {
        "id": "0oOKnZeukqux"
      },
      "id": "0oOKnZeukqux"
    },
    {
      "cell_type": "code",
      "execution_count": null,
      "id": "NOBQz6J6y3gm",
      "metadata": {
        "cellView": "form",
        "colab": {
          "base_uri": "https://localhost:8080/"
        },
        "id": "NOBQz6J6y3gm",
        "outputId": "dd5d833d-0757-490d-d815-b6a3d9062ac9"
      },
      "outputs": [
        {
          "name": "stdout",
          "output_type": "stream",
          "text": [
            "torch.Size([2, 1, 10, 1, 32])\n",
            "torch.Size([2, 8, 10, 1, 32])\n"
          ]
        },
        {
          "data": {
            "text/plain": [
              "torch.Size([16, 10, 1, 32])"
            ]
          },
          "execution_count": 23,
          "metadata": {},
          "output_type": "execute_result"
        }
      ],
      "source": [
        "#@title Ignore\n",
        "'''\n",
        "feat = torch.randn(16, 10, 1, 32)\n",
        "b = feat.shape[0]\n",
        "feat_style = torch.stack((feat[0], feat[b // 2])).unsqueeze(1)\n",
        "print(feat_style.shape)\n",
        "feat_style = feat_style.expand(2, b // 2, *feat.shape[1:])\n",
        "print(feat_style.shape)\n",
        "feat_style.reshape(*feat.shape).shape\n",
        "'''"
      ]
    },
    {
      "cell_type": "code",
      "execution_count": null,
      "id": "fcdqDJlVwmPE",
      "metadata": {
        "id": "fcdqDJlVwmPE"
      },
      "outputs": [],
      "source": [
        "T = torch.tensor # Create Alias for torch.tensor to increase readability\n",
        "\n",
        "def concat_first(feat: T, dim=2) -> T: # takes K or V as input with shape = (batch, heads, tokens, dim_head)\n",
        "    feat_style = expand_first(feat) # creates K/V of the two reference imgs (1th and middle-batch) of shape -> as above\n",
        "    # feat_style holds the K/V of the first image repeated for the first half of the batch,\n",
        "    # and of the middle img repeated for the second half of the batch\n",
        "    return torch.cat((feat, feat_style), dim=dim) # concatenate the real K/V along the \"tokens\" dimensions, so that Q_target pays attention to both target and reference(s) Keys and Values tokens\n",
        "\n",
        "# when this takes mean and std -> input shape: (batch, heads, 1, channels), see below\n",
        "# when it takes K or V -> input shape: (batch, heads, tokens, dim_head), as used in \"concat_first\" above\n",
        "def expand_first(feat: T) -> T:\n",
        "    b = feat.shape[0] # Extract batch size\n",
        "    feat_style = torch.stack((feat[0], feat[b // 2])).unsqueeze(1) # shape: (2, 1, heads, 1, channels), stack the mean (or std) of first and middle images in the batch\n",
        "    feat_style = feat_style.expand(2, b // 2, *feat.shape[1:]) # repeat the mean or std batch/2 times (since we are considering 2 stats, from first and middle img in the batch)\n",
        "    return feat_style.reshape(*feat.shape) # reshape so that first half of batch has assigned the mean/std of the first img, second half of the middle image\n",
        "\n",
        "def calc_mean_std(feat, eps: float = 1e-5) -> tuple[T, T]:  # computes mean and std along number of tokens dimension\n",
        "    feat_std = (feat.var(dim=-2, keepdims=True) + eps).sqrt()\n",
        "    feat_mean = feat.mean(dim=-2, keepdims=True)\n",
        "    return feat_mean, feat_std # output shape: (batch, heads, 1, channels)\n",
        "\n",
        "def adain(feat: T) -> T: # Input shape: (Batch, Heads, #Tokens, Channels), #Tokens is number of \"pixels\" in the feature map, channels = dim_head = token_dim\n",
        "    feat_mean, feat_std = calc_mean_std(feat)\n",
        "    feat_style_mean = expand_first(feat_mean)\n",
        "    feat_style_std = expand_first(feat_std)\n",
        "    feat = (feat - feat_mean) / feat_std  # normalize the feature map\n",
        "    feat = feat * feat_style_std + feat_style_mean  # scale and shift the feature map (reparameterization with reference stats)\n",
        "    return feat\n"
      ]
    },
    {
      "cell_type": "code",
      "execution_count": null,
      "id": "tPUwicCtnE1y",
      "metadata": {
        "colab": {
          "base_uri": "https://localhost:8080/"
        },
        "id": "tPUwicCtnE1y",
        "outputId": "d478334f-c098-475c-8ad3-8725190c9761"
      },
      "outputs": [
        {
          "data": {
            "text/plain": [
              "Attention(\n",
              "  (to_q): Linear(in_features=32, out_features=512, bias=False)\n",
              "  (to_k): Linear(in_features=32, out_features=512, bias=False)\n",
              "  (to_v): Linear(in_features=32, out_features=512, bias=False)\n",
              "  (to_out): ModuleList(\n",
              "    (0): Linear(in_features=512, out_features=32, bias=True)\n",
              "    (1): Dropout(p=0.0, inplace=False)\n",
              "  )\n",
              ")"
            ]
          },
          "execution_count": 4,
          "metadata": {},
          "output_type": "execute_result"
        }
      ],
      "source": [
        "attn = attention_processor.Attention(query_dim=32, dim_head = 64, heads = 8)\n",
        "# both Q and K and V are projected from the input hidden states to a dimension that matches heads * dim_head.\n",
        "# example: Projected from (Batch, tokens, 32) to (Batch, tokens, 512), and then reshaped to (Batch, tokens, 8 = heads, 64).\n",
        "attn"
      ]
    },
    {
      "cell_type": "code",
      "execution_count": null,
      "id": "WMw349W5D6NJ",
      "metadata": {
        "id": "WMw349W5D6NJ"
      },
      "outputs": [],
      "source": [
        "class DefaultAttentionProcessor(nn.Module):\n",
        "\n",
        "    def __init__(self):\n",
        "        super().__init__()\n",
        "        self.processor = attention_processor.AttnProcessor2_0() # from diffusers.models import attention_processor\n",
        "\n",
        "    def __call__(self, attn: attention_processor.Attention, hidden_states, encoder_hidden_states=None,\n",
        "                 attention_mask=None, **kwargs):\n",
        "        return self.processor(attn, hidden_states, encoder_hidden_states, attention_mask)\n",
        "\n",
        "class SharedAttentionProcessor(DefaultAttentionProcessor):\n",
        "\n",
        "    def shared_call(\n",
        "            self,\n",
        "            attn: attention_processor.Attention,\n",
        "            hidden_states,\n",
        "            encoder_hidden_states=None,\n",
        "            attention_mask=None,\n",
        "            **kwargs\n",
        "    ):\n",
        "\n",
        "        residual = hidden_states\n",
        "        input_ndim = hidden_states.ndim\n",
        "        if input_ndim == 4:\n",
        "            batch_size, channel, height, width = hidden_states.shape\n",
        "            hidden_states = hidden_states.view(batch_size, channel, height * width).transpose(1, 2)\n",
        "        batch_size, sequence_length, _ = (\n",
        "            hidden_states.shape if encoder_hidden_states is None else encoder_hidden_states.shape\n",
        "        )\n",
        "\n",
        "        if attention_mask is not None:\n",
        "            attention_mask = attn.prepare_attention_mask(attention_mask, sequence_length, batch_size)\n",
        "            # scaled_dot_product_attention expects attention_mask shape to be\n",
        "            # (batch, heads, source_length, target_length)\n",
        "            attention_mask = attention_mask.view(batch_size, attn.heads, -1, attention_mask.shape[-1])\n",
        "\n",
        "        if attn.group_norm is not None:\n",
        "            hidden_states = attn.group_norm(hidden_states.transpose(1, 2)).transpose(1, 2)\n",
        "\n",
        "        query = attn.to_q(hidden_states) # linear layer \"channels\" -> \"heads * dim_heads\"\n",
        "        key = attn.to_k(hidden_states) # same as above\n",
        "        value = attn.to_v(hidden_states) # same as above\n",
        "        inner_dim = key.shape[-1] # get \"heads * dim_heads\" value\n",
        "        head_dim = inner_dim // attn.heads # infer \"dim_head\" by dividing for the number of heads\n",
        "\n",
        "        query = query.view(batch_size, -1, attn.heads, head_dim).transpose(1, 2) # shape all back to (batch, heads, tokens, dim_head)\n",
        "        key = key.view(batch_size, -1, attn.heads, head_dim).transpose(1, 2) # same as above\n",
        "        value = value.view(batch_size, -1, attn.heads, head_dim).transpose(1, 2) # same as above\n",
        "        # if self.step >= self.start_inject:\n",
        "        # Adaptive Normalization of Q and K (and eventually V)\n",
        "        if self.adain_queries:\n",
        "            query = adain(query)\n",
        "        if self.adain_keys:\n",
        "            key = adain(key)\n",
        "        if self.adain_values: # usually false\n",
        "            value = adain(value)\n",
        "        # shared attention layer\n",
        "        # Q, V and K shape = (batch, heads, tokens, dim_head)\n",
        "        if self.share_attention:\n",
        "            key = concat_first(key, -2) # create Keys = [K_t, K_r] -> shape: (batch, heads, 2*tokens, dim_head)\n",
        "            value = concat_first(value, -2) # create Values = [V_t, V_r] -> shape: (batch, heads, 2*tokens, dim_head)\n",
        "            hidden_states = nnf.scaled_dot_product_attention(\n",
        "                query, key, value, attn_mask=attention_mask, dropout_p=0.0, is_causal=False\n",
        "            ) # hidden_states output shape -> (batch, heads, tokens, dim_head) since Q not double (.,.,tokens,.) and att = softmax(Q * K'/sqrt(dim_head)) * V\n",
        "        else:\n",
        "            hidden_states = nnf.scaled_dot_product_attention(\n",
        "                query, key, value, attn_mask=attention_mask, dropout_p=0.0, is_causal=False\n",
        "            )\n",
        "\n",
        "        # now heads concatenation for later re-projection as in standard Multi Head Attention\n",
        "        hidden_states = hidden_states.transpose(1, 2).reshape(batch_size, -1, attn.heads * head_dim) # transpose -> (b, t, h, d_h); reshape -> (b, t, h*d_h)\n",
        "        hidden_states = hidden_states.to(query.dtype)\n",
        "\n",
        "        # linear proj\n",
        "        hidden_states = attn.to_out[0](hidden_states) # to_out[0] = Linear(in_features = heads * dim_heads, out_features = dim_heads, bias=True)\n",
        "        # dropout\n",
        "        hidden_states = attn.to_out[1](hidden_states)\n",
        "        # hidden_states shape -> (batch, tokens, dim_head) = (batch, pixels, channels)\n",
        "        if input_ndim == 4:\n",
        "            # shape it back to a \"feature_maps\" ready for convolution\n",
        "            hidden_states = hidden_states.transpose(-1, -2).reshape(batch_size, channel, height, width) # transpose -> (b, c, pixels); reshape to create an \"image\" -> (b, c, h, w)\n",
        "\n",
        "        if attn.residual_connection:\n",
        "            hidden_states = hidden_states + residual # residuals were initial input hidden_states untouched, before attention mechanismf\n",
        "\n",
        "        hidden_states = hidden_states / attn.rescale_output_factor\n",
        "        return hidden_states\n",
        "\n",
        "    def __call__(self, attn: attention_processor.Attention, hidden_states, encoder_hidden_states=None,\n",
        "                 attention_mask=None, **kwargs):\n",
        "\n",
        "        hidden_states = self.shared_call(attn, hidden_states, hidden_states, attention_mask, **kwargs)\n",
        "\n",
        "        return hidden_states\n",
        "\n",
        "    def __init__(self, style_aligned_args: StyleAlignedArgs):\n",
        "        super().__init__()\n",
        "        self.share_attention = style_aligned_args.share_attention\n",
        "        self.adain_queries = style_aligned_args.adain_queries\n",
        "        self.adain_keys = style_aligned_args.adain_keys\n",
        "        self.adain_values = style_aligned_args.adain_values\n",
        "        self.shared_score_scale = style_aligned_args.shared_score_scale\n",
        "        self.shared_score_shift = style_aligned_args.shared_score_shift"
      ]
    },
    {
      "cell_type": "code",
      "execution_count": null,
      "id": "e9f12c1b",
      "metadata": {
        "id": "e9f12c1b"
      },
      "outputs": [],
      "source": [
        "from dataclasses import dataclass\n",
        "\n",
        "@dataclass(frozen=True)\n",
        "class StyleAlignedArgs:\n",
        "    share_group_norm: bool = True\n",
        "    \"\"\"\n",
        "    Indicates whether to share group normalization across the model.\n",
        "    \"\"\"\n",
        "\n",
        "    share_layer_norm: bool = True\n",
        "    \"\"\"\n",
        "    Indicates whether to share layer normalization across the model.\n",
        "    \"\"\"\n",
        "\n",
        "    share_attention: bool = True\n",
        "    \"\"\"\n",
        "    Indicates whether to share attention mechanisms across the model.\n",
        "    \"\"\"\n",
        "\n",
        "    adain_queries: bool = True\n",
        "    \"\"\"\n",
        "    Indicates whether to apply AdaIN (Adaptive Instance Normalization) to the queries.\n",
        "    \"\"\"\n",
        "\n",
        "    adain_keys: bool = True\n",
        "    \"\"\"\n",
        "    Indicates whether to apply AdaIN to the keys.\n",
        "    \"\"\"\n",
        "\n",
        "    adain_values: bool = False\n",
        "    \"\"\"\n",
        "    Indicates whether to apply AdaIN to the values.\n",
        "    \"\"\"\n",
        "\n",
        "    only_self_level: float = 0.0\n",
        "    \"\"\"\n",
        "    Level of self-attention to be applied exclusively.\n",
        "    \"\"\""
      ]
    },
    {
      "cell_type": "markdown",
      "id": "1d516363",
      "metadata": {
        "id": "1d516363"
      },
      "source": [
        "### 4: DDIM \\& PIPELINE DEFINITION\n",
        "We then proceed to load the **SDXL (Stable Diffusion XL)** Model and configure the **DDIM (Denoising Diffusion Implicit Models) Scheduler**. We then configure the **Pipeline**."
      ]
    },
    {
      "cell_type": "markdown",
      "id": "e734c603",
      "metadata": {
        "id": "e734c603"
      },
      "source": [
        "#### 4.1: DDIM SCHEDULER\n",
        "\n",
        "The **DDIM Scheduler** is the component used in diffusion models for generating high-quality samples from noise. It controls the denoising process by defining a schedule for adding and removing noise to and from the data. The scheduler is essential in determining how the model transitions from pure noise to a final, coherent image or other data form.\n",
        "\n",
        "In particular, its parameters are:\n",
        "- **beta_start (float)**: Starting value of beta, the variance of the noise schedule.\n",
        "- **beta_end (float)**: Ending value of beta, the variance of the noise schedule.\n",
        "- **beta_schedule (str)**: The type of schedule for beta. (Possible values: \"linear\", \"scaled_linear\", \"squaredcos_cap_v2\", \"sigmoid\").\n",
        "- **clip_sample (bool)**: If True, the samples are clipped to [-1, 1].\n",
        "- **set_alpha_to_one (bool)**: If True, alpha will be set to 1 at the end of the sampling process.\n",
        "- **num_train_timesteps (int)**: The number of diffusion steps used during training.\n",
        "- **timestep_spacing (str)**: The method to space out timesteps.(Possible values: \"linspace\", \"leading\").\n",
        "- **prediction_type (str)**: The type of prediction model used in the scheduler. (Possible values: \"epsilon\", \"sample\", \"v-prediction\").\n",
        "- **trained_betas (torch.Tensor or None)**: Optional tensor of pre-trained betas to use in the scheduler."
      ]
    },
    {
      "cell_type": "markdown",
      "id": "5be67335",
      "metadata": {
        "id": "5be67335"
      },
      "source": [
        "##### 4.1.1: DIFFUSION PROCESS\n",
        "\n",
        "The diffusion process involves adding noise to the data over a series of timesteps, which is described by the forward process:\n",
        "\n",
        "$$ q(\\mathbf{x}_t | \\mathbf{x}_{t-1}) = \\mathcal{N}(\\mathbf{x}_t; \\sqrt{\\alpha_t} \\mathbf{x}_{t-1}, \\beta_t \\mathbf{I}) $$\n",
        "\n",
        "where:\n",
        "- $\\alpha_t$ and $\\beta_t$ are the scaling and noise variance terms, respectively."
      ]
    },
    {
      "cell_type": "markdown",
      "id": "fd5d7a6a",
      "metadata": {
        "id": "fd5d7a6a"
      },
      "source": [
        "##### 4.1.2: REVERSE PROCESS\n",
        "\n",
        "The reverse process aims to recover the data by denoising it, and is given by:\n",
        "\n",
        "$$ p_{\\theta}(\\mathbf{x}_{t-1} | \\mathbf{x}_t) = \\mathcal{N}(\\mathbf{x}_{t-1}; \\mu_{\\theta}(\\mathbf{x}_t, t), \\sigma_t^2 \\mathbf{I}) $$\n",
        "\n",
        "where:\n",
        "- $\\mu_{\\theta}(\\mathbf{x}_t, t)$ is the predicted mean.\n",
        "- $\\sigma_t$ is the standard deviation of the noise at timestep $t$."
      ]
    },
    {
      "cell_type": "markdown",
      "id": "d39bf6d4",
      "metadata": {
        "id": "d39bf6d4"
      },
      "source": [
        "##### 4.1.3: BETA SCHEDULE\n",
        "\n",
        "The beta values are scheduled over timesteps from `beta_start` to `beta_end`. The schedule can be:\n",
        "- **Linear**:\n",
        "\n",
        "$$ \\beta_t = \\beta_{\\text{start}} + t \\frac{\\beta_{\\text{end}} - \\beta_{\\text{start}}}{T} $$\n",
        "\n",
        "- **Scaled Linear**:\n",
        "\n",
        "$$ \\beta_t = \\beta_{\\text{start}} + t \\left(\\frac{\\beta_{\\text{end}} - \\beta_{\\text{start}}}{T}\\right)^2 $$\n",
        "\n",
        "- **Sigmoid**:\n",
        "\n",
        "$$ \\beta_t = \\beta_{\\text{start}} + (\\beta_{\\text{end}} - \\beta_{\\text{start}}) \\cdot \\text{sigmoid}(t) $$\n",
        "\n",
        "- **Squared Cosine (squaredcos\\_cap\\_v2)**:\n",
        "\n",
        "$$ \\beta_t = \\beta_{\\text{start}} + 0.5 \\left(1 - \\cos\\left(\\frac{t \\pi}{T}\\right)\\right) (\\beta_{\\text{end}} - \\beta_{\\text{start}}) $$"
      ]
    },
    {
      "cell_type": "markdown",
      "id": "6df85710",
      "metadata": {
        "id": "6df85710"
      },
      "source": [
        "##### 4.1.4: INFERENCE WITH DDIM\n",
        "\n",
        "During inference, the denoising process can be described as:\n",
        "\n",
        "$$ \\mathbf{x}_{t-1} = \\sqrt{\\alpha_{t-1}} \\left( \\frac{\\mathbf{x}_t - \\sqrt{1 - \\alpha_t} \\mathbf{\\epsilon}_{\\theta}(\\mathbf{x}_t, t)}{\\sqrt{\\alpha_t}} \\right) + \\sqrt{1 - \\alpha_{t-1} - \\sigma_t^2} \\mathbf{\\epsilon}_{\\theta}(\\mathbf{x}_t, t) $$\n",
        "\n",
        "where:\n",
        "- $\\mathbf{\\epsilon}_{\\theta}(\\mathbf{x}_t, t)$ is the noise predicted by the model.\n",
        "- $\\sigma_t$ is the standard deviation for the timestep $t$."
      ]
    },
    {
      "cell_type": "code",
      "execution_count": null,
      "id": "c2f6f1e6-445f-47bc-b9db-0301caeb7490",
      "metadata": {
        "id": "c2f6f1e6-445f-47bc-b9db-0301caeb7490",
        "pycharm": {
          "name": "#%%\n"
        }
      },
      "outputs": [],
      "source": [
        "scheduler_linear = DDIMScheduler(\n",
        "    beta_start=0.00085,                 # Starting value of beta\n",
        "    beta_end=0.012,                     # Ending value of beta\n",
        "    beta_schedule=\"scaled_linear\",      # Type of schedule for beta values\n",
        "    clip_sample=False,                  # Whether to clip samples to a specified range\n",
        "    set_alpha_to_one=False,             # Whether to set alpha to one at the end of the process\n",
        "\n",
        "    num_train_timesteps=1000,           # Number of diffusion steps used during training\n",
        "    timestep_spacing=\"linspace\",        # Method to space out timesteps\n",
        "    prediction_type=\"epsilon\",          # Type of prediction model used in the scheduler\n",
        "    trained_betas=None                  # Optional pre-trained beta values\n",
        ")\n",
        "\n",
        "scheduler = scheduler_linear"
      ]
    },
    {
      "cell_type": "markdown",
      "id": "5c3120b5",
      "metadata": {
        "id": "5c3120b5"
      },
      "source": [
        "### 4.2: SDXL PIPELINE DEFINITION\n",
        "\n",
        "We then proceed to **load** the **pre-trained `StableDiffusionXLPipeline` model** with specific configurations to optimize for GPU memory usage and ensure efficient processing. Below is a breakdown of each parameter and its purpose:\n",
        "\n",
        "- **pretrained_model_name_or_path**: The name or path of the pre-trained model to be loaded. In this example, we use `\"stabilityai/stable-diffusion-xl-base-1.0\"`, which is a pre-trained model available in the Stability AI repository.\n",
        "- **torch_dtype**: Specifies the data type for the model's tensors. Here, `torch.float16` is used to enable mixed precision, which helps reduce memory usage and improve computation speed.\n",
        "- **variant**: Indicates the model variant. `\"fp16\"` is used to specify 16-bit floating point precision, aligning with the `torch_dtype` parameter.\n",
        "- **use_safetensors**: Determines whether to use the `safetensors` library for safe tensor loading. Setting this to `True` ensures safer model loading.\n",
        "- **scheduler**: An instance of the scheduler to be used for the diffusion process. In this example, we use a `DDIMScheduler` instance configured for efficient sampling.\n",
        "- **revision**: Specifies the model version to use. The default value is `None`, which means the latest version will be used.\n",
        "- **use_auth_token**: The authentication token used for accessing private models. The default value is `None`, meaning no authentication is required.\n",
        "- **cache_dir**: The directory where the downloaded model will be cached. The default value is `None`, which uses the default cache directory.\n",
        "- **force_download**: Forces the model to be downloaded even if it exists locally. The default value is `False`.\n",
        "- **resume_download**: Resumes a partial download if available. The default value is `False`.\n",
        "- **proxies**: A dictionary of proxy servers to use. The default value is `None`, meaning no proxies are used.\n",
        "- **local_files_only**: Uses only local files if set to `True`. The default value is `False`.\n",
        "- **device_map**: Specifies device placement for model layers. The default value is `None`, which uses the default placement.\n",
        "- **max_memory**: Specifies the maximum memory allowed for each device. The default value is `None`, meaning no specific memory limit is set.\n",
        "\n",
        "Finally, the model is moved to the GPU for faster computations using `.to(\"cuda\")`.\n",
        "\n",
        "The use of mixed precision (`torch_dtype=torch.float16` and `variant=\"fp16\"`) helps in reducing memory usage and improving performance. This configuration is particularly useful when working with large models and limited GPU memory."
      ]
    },
    {
      "cell_type": "code",
      "execution_count": null,
      "id": "785645f0",
      "metadata": {
        "id": "785645f0"
      },
      "outputs": [],
      "source": [
        "SDXL_Pipeline = StableDiffusionXLPipeline.from_pretrained(\n",
        "    pretrained_model_name_or_path=\"stabilityai/stable-diffusion-xl-base-1.0\",  # The model name or path\n",
        "    torch_dtype=torch.float16,            # Data type for the model's tensors\n",
        "    variant=\"fp16\",                       # Model variant for 16-bit floating point precision (Mixed Precision)\n",
        "    use_safetensors=True,                 # Use the safetensors library for safe tensor loading\n",
        "    scheduler=scheduler,                  # Scheduler instance for the diffusion process\n",
        "\n",
        "    revision=None,                        # Model version to use, default is None\n",
        "    use_auth_token=None,                  # Authentication token, None means no authentication\n",
        "    cache_dir=None,                       # Directory to cache the downloaded model, None uses default\n",
        "    force_download=False,                 # Force download even if the model exists locally\n",
        "    resume_download=False,                # Resume a partial download if available\n",
        "    proxies=None,                         # Dictionary of proxy servers to use, None means no proxies\n",
        "    local_files_only=False,               # Use only local files if set to True\n",
        "    device_map=None,                      # Device placement for model layers, None uses default placement\n",
        "    max_memory=None                       # Maximum memory allowed for each device, None means no specific limit\n",
        ").to(\"cuda\")                              # Move the model to the GPU for faster computations"
      ]
    },
    {
      "cell_type": "code",
      "execution_count": null,
      "id": "bb08ebfe",
      "metadata": {
        "id": "bb08ebfe"
      },
      "outputs": [],
      "source": [
        "handler = Handler(SDXL_Pipeline)\n",
        "sa_args = StyleAlignedArgs(share_group_norm=False,\n",
        "                                      share_layer_norm=False,\n",
        "                                      share_attention=True,\n",
        "                                      adain_queries=True,\n",
        "                                      adain_keys=True,\n",
        "                                      adain_values=False\n",
        "                                     )\n",
        "\n",
        "handler.register(sa_args)"
      ]
    },
    {
      "cell_type": "markdown",
      "id": "fbdd6159",
      "metadata": {
        "id": "fbdd6159"
      },
      "source": [
        "### 5: RUNNING STYLE-ALIGNED with A SET OF PROMPTS WITHOUT REFERENCE IMAGE"
      ]
    },
    {
      "cell_type": "markdown",
      "id": "7e77869b",
      "metadata": {
        "id": "7e77869b"
      },
      "source": [
        "TO RUN IF YOU HAVE ENOUGH GPU RAM"
      ]
    },
    {
      "cell_type": "code",
      "execution_count": null,
      "id": "5cca9256-0ce0-45c3-9cba-68c7eff1452f",
      "metadata": {
        "id": "5cca9256-0ce0-45c3-9cba-68c7eff1452f",
        "pycharm": {
          "name": "#%%\n"
        }
      },
      "outputs": [],
      "source": [
        "# run StyleAligned\n",
        "\n",
        "sets_of_prompts = [\n",
        "  \"a toy train. macro photo. 3d game asset\",\n",
        "  \"a toy airplane. macro photo. 3d game asset\",\n",
        "  \"a toy bicycle. macro photo. 3d game asset\",\n",
        "  \"a toy car. macro photo. 3d game asset\",\n",
        "  \"a toy boat. macro photo. 3d game asset\",\n",
        "]\n",
        "images = SDXL_Pipeline(sets_of_prompts,).images\n",
        "mediapy.show_images(images)"
      ]
    },
    {
      "cell_type": "markdown",
      "id": "bc6251b8",
      "metadata": {
        "id": "bc6251b8"
      },
      "source": [
        "TO RUN IF YOU HAVEN'T ENOUGH GPU RAM"
      ]
    },
    {
      "cell_type": "code",
      "execution_count": null,
      "id": "d819ad6d-0c19-411f-ba97-199909f64805",
      "metadata": {
        "id": "d819ad6d-0c19-411f-ba97-199909f64805"
      },
      "outputs": [],
      "source": [
        "# run StyleAligned\n",
        "sets_of_prompts = [\n",
        "  \"a toy train. macro photo. 3d game asset\",\n",
        "  \"a toy airplane. macro photo. 3d game asset\",\n",
        "  \"a toy bicycle. macro photo. 3d game asset\",\n",
        "  \"a toy car. macro photo. 3d game asset\",\n",
        "  \"a toy boat. macro photo. 3d game asset\",\n",
        "]\n",
        "# sets_of_prompts = [\n",
        "#   \"a hot hair balloon, simple wooden statue\",\n",
        "#   \"a friendly robot, simple wooden statue\",\n",
        "#   \"a bull, simple wooden statue\",\n",
        "# ]\n",
        "images = []\n",
        "for prompt in sets_of_prompts:\n",
        "    # Generate image for each prompt individually\n",
        "    image = SDXL_Pipeline([prompt]).images[0]\n",
        "    images.append(image)\n",
        "    # Clear CUDA cache to free memory\n",
        "    torch.cuda.empty_cache()\n",
        "\n",
        "    # Print Memory summary\n",
        "    # print(torch.cuda.memory_summary(device=None, abbreviated=False))\n",
        "\n",
        "mediapy.show_images(images)"
      ]
    },
    {
      "cell_type": "markdown",
      "id": "d7c1bd22",
      "metadata": {
        "id": "d7c1bd22"
      },
      "source": [
        "### 6: STYLE-ALIGNED WITH REFERENCE IMAGE\n",
        "\n",
        "In this section, we develop the **StyleAligned** method that **maintains visual coherence** w.r.t. a **Reference Style Image**.\n"
      ]
    },
    {
      "cell_type": "markdown",
      "id": "9e473def",
      "metadata": {
        "id": "9e473def"
      },
      "source": [
        "#### 6.1: LOADING REFERENCE IMAGE & SETTING PARAMETERS\n",
        "\n",
        "As first thing, we **load a Reference Image** from which you will \"copy the style\". Indeed, we will ask for the newly generated images to stick with the same style of the Reference image, i.e., to be **Style-Aligned**.\n",
        "In particular, we will define 3 **Image Parameters** here:\n",
        "- **reference_style**: This is the reference style describing the reference image.\n",
        "- **reference_prompt**: This is the reference prompt describing the reference image.\n",
        "- **reference_image_path**: This is the path to the reference image.\n",
        "\n",
        "As second step, you will set the parameters relative to the **Diffusion Inversion Process**. This process in a.k.a as **Temperature Scaling**, that aims to inject confidence/randomness in a classification/generation model. In this case, we aim at injecting more styleAlignment or randomness to the image generated.\n",
        "\n",
        "In particular, you will set the parameters relative to:\n",
        "- **num_inference_steps**: The number of inference steps to be performed during the Diffusion Inversion Process.\n",
        "- **guidance_scale**: Here we set the parameter to have **Guidance Scale**, a parameter used in **guided diffusion models** to control the influence of the conditioning signal (e.g., a text prompt) during the image generation process, with the purpose to balance the model’s adherence to the conditioning signal and its natural generative tendencies. In particular:\n",
        "\t- **High Guidance Scale (>1)**: Increases the influence of the conditioning signal, making the generated images more aligned with the prompt. The model is more likely to produce images with features that are explicitly described in the prompt, leading to more detailed and specific outputs. Very high values might cause the model to overfit to the prompt, potentially losing some naturalness or introducing artifacts.\n",
        "\t- **Default Guidance Scale (=1)**: A guidance scale of 1.0 means that the model’s predictions are equally balanced between the conditional and unconditional signals, providing a baseline level of adherence to the prompt.\n",
        "\t- **Low Guidance Scale (<1)**: A lower guidance scale reduces the effect of the guiding input, making the generated images less constrained by the prompt. The model has more freedom to generate diverse and potentially more creative outputs that are not strictly bound to the prompt. Very low values might cause the model to generate images that are too generic and not sufficiently aligned with the prompt.\n",
        "- **style_alignment_score_shift**: This parameter is used to **shift** the **scores logarithmically**. In particular, we will have:\n",
        "\t- **High Values (>1)**: This will **increase** the **StyleAlignment**, making therefore the output image to be closer to the reference.\n",
        "\t- **Low Values (<=1)**: This will **decrease** the **StyleAlignment**, making therefore the output image to be farther to the reference.\n",
        "- **style_alignment_score_scale**: This parameter is used to **scale** the scores or weights within the model. More in detail:\n",
        "\t- **High Values (>1)**: This increases the magnitude of the scores, making the model more confident and therefore not varying so much the generation process.\n",
        "\t- **Standard Value (=1)**: This translates in having no rescaling.\n",
        "\t- **Low Values (<1)**: This coincides to having more generalization (injecting randomness) into the generation process.\n",
        "\n",
        "***Special Configuration for Famous Images***\n",
        "\n",
        "For very famous images, it might be beneficial to suppress the **Shared Attention** to the reference image to avoid overfitting or excessive influence from the reference."
      ]
    },
    {
      "cell_type": "code",
      "execution_count": null,
      "id": "5d034bfe",
      "metadata": {
        "id": "5d034bfe"
      },
      "outputs": [],
      "source": [
        "# 1) Medieval Painting\n",
        "# Set the source style, prompt and path.\n",
        "reference_style = \"medieval painting\"\n",
        "reference_prompt = f'Man laying in a bed, {reference_style}.'\n",
        "reference_image_path = './imgs/medieval-bed.jpeg'\n",
        "\n",
        "# 2) Cubism Painting\n",
        "# reference_style = \"cubism painting\"\n",
        "# reference_prompt = f'Two men smoking water pipe, {reference_style}.'\n",
        "# reference_image_path = './imgs/Picasso_Smoking_Water_Pipe.jpeg'\n",
        "\n",
        "\n",
        "# Setting the number of inference steps in the Diffusion Inversion Process.\n",
        "num_inference_steps = 50\n",
        "\n",
        "# Setting the Guidance Scale for the Diffusion Inversion Process.\n",
        "guidance_scale = 10.0\n",
        "\n",
        "# 1) Normal Painting\n",
        "# These are some parameters you can Adjust to Control StyleAlignment to Reference Image.\n",
        "style_alignment_score_shift = 2  # higher value induces higher fidelity, set 0 for no shift\n",
        "style_alignment_score_scale = 1.0  # higher value induces higher, set 1 for no rescale\n",
        "\n",
        "# 2) Very Famous Paintings\n",
        "# style_alignment_score_shift = 1\n",
        "# style_alignment_score_scale = 0.5"
      ]
    },
    {
      "cell_type": "code",
      "execution_count": null,
      "id": "c32dc685",
      "metadata": {
        "id": "c32dc685"
      },
      "outputs": [],
      "source": [
        "# Load the reference image and resize it to 1024x1024 pixels.\n",
        "ref_image = np.array(load_image(reference_image_path).resize((1024, 1024)))\n",
        "\n",
        "# Display the output image.\n",
        "mediapy.show_image(ref_image, title=\"Reference Image for Style Alignment\", height=256)"
      ]
    },
    {
      "cell_type": "markdown",
      "id": "43a2a01c",
      "metadata": {
        "id": "43a2a01c"
      },
      "source": [
        "#### 6.2: FUNCTION FOR PROMPT TOKENIZATION & EMBEDDING\n",
        "\n",
        "Hereafter, we aim to create the function that, taking a **text prompt** in **input**, **tokenizes** it through a Tokenizer, and then generates **embeddings** using a text encoder.\n",
        "\n",
        "It will then return in output both the **Hidden State Embeddings** (contextual representations for each token from the second last layer of the text encoder) and the **Pooled Output Embeddings** (single vector representation capturing the overall meaning of the input text). If the prompt is empty, it returns zero tensors as negative embeddings."
      ]
    },
    {
      "cell_type": "code",
      "execution_count": null,
      "id": "5f78b735",
      "metadata": {
        "id": "5f78b735"
      },
      "outputs": [],
      "source": [
        "# Alias for torch.Tensor type\n",
        "T = torch.Tensor\n",
        "\n",
        "# Alias for a type that can be either a torch.Tensor or None\n",
        "TN = T | None\n",
        "\n",
        "# Defining a type alias for the Diffusion Inversion Process type of callable.\n",
        "InversionCallback = Callable[[StableDiffusionXLPipeline, int, T, dict[str, T]], dict[str, T]]"
      ]
    },
    {
      "cell_type": "markdown",
      "id": "4b5b4067",
      "metadata": {
        "id": "4b5b4067"
      },
      "source": [
        "The function we will develop for this is going to receive as Parameters:\n",
        "- ***prompt***: A string containing the text prompt to be tokenized and embedded.\n",
        "- ***tokenizer***: An instance of a tokenizer, used to convert the text prompt into token IDs.\n",
        "- ***text_encoder***: An instance of a text encoder, used to generate embeddings from the token IDs.\n",
        "- ***device***: The device (e.g., CPU or GPU) to run the computations on.\n",
        "\n",
        "The steps involved are:\n",
        "- **1) Tokenize the Input Prompt**: Converts the input text (prompt) into a sequence of tokens, which are numerical representations (token IDs) that can be processed by the model.\n",
        "- **2) Extract Token IDs**: Extracts the token IDs from the tokenized inputs.\n",
        "- **3) Generate Embeddings**: Generates embeddings for the tokenized input using the text encoder.\n",
        "- **4) Extract Pooled Output Embeddings**: Extracts the pooled output embeddings, summarizing the input sequence.\n",
        "- **5) Extract Hidden State Embeddings**: Extracts the hidden state embeddings from the second last layer of the text encoder.\n",
        "- **6) Handle Empty Prompt Case**: Checks if the input prompt is empty and handles this case.\n",
        "- **7) Return Embeddings**: Returns the generated embeddings."
      ]
    },
    {
      "cell_type": "code",
      "execution_count": null,
      "id": "a8c87a50",
      "metadata": {
        "id": "a8c87a50"
      },
      "outputs": [],
      "source": [
        "def _get_text_embeddings(prompt: str, tokenizer, text_encoder, device):\n",
        "\n",
        "    # 1) Tokenize the Input Prompt: Tokenize the input prompt using the provided tokenizer, with padding and truncation.\n",
        "    text_inputs = tokenizer(prompt, padding='max_length', max_length=tokenizer.model_max_length, truncation=True, return_tensors='pt')\n",
        "    # 2) Extract Token IDs: Extract the input IDs (token indices) from the tokenized inputs.\n",
        "    text_input_ids = text_inputs.input_ids\n",
        "\n",
        "    # 3) Generate Embeddings: Use torch.no_grad() to disable gradient computation for the following operations.\n",
        "    with torch.no_grad():\n",
        "        # Generate embeddings for the tokenized input IDs using the text encoder.\n",
        "        # The embeddings include output hidden states.\n",
        "        prompt_embeds = text_encoder(\n",
        "            text_input_ids.to(device),  # Move input IDs to the specified device (e.g., GPU).\n",
        "            output_hidden_states=True,  # Request hidden states from the encoder.\n",
        "        )\n",
        "\n",
        "    # 4) Extract Pooled Output Embeddings: Extract the pooled output embeddings (first element of the tuple returned by the encoder).\n",
        "    pooled_prompt_embeds = prompt_embeds[0]\n",
        "    # 5) Extract Hidden State Embeddings: Extract the hidden state embeddings from the second last layer of the encoder.\n",
        "    prompt_embeds = prompt_embeds.hidden_states[-2]\n",
        "\n",
        "    # 6) Handle Empty Prompt Case: If the prompt is empty, return zero tensors as negative embeddings.\n",
        "    if prompt == '':\n",
        "        # Create a zero tensor with the same shape as the hidden state embeddings.\n",
        "        negative_prompt_embeds = torch.zeros_like(prompt_embeds)\n",
        "        # Create a zero tensor with the same shape as the pooled output embeddings.\n",
        "        negative_pooled_prompt_embeds = torch.zeros_like(pooled_prompt_embeds)\n",
        "        # Return the zero tensors for both negative embeddings and pooled negative embeddings.\n",
        "        return negative_prompt_embeds, negative_pooled_prompt_embeds\n",
        "\n",
        "    # 7) Returns the generated embeddings: Return the hidden state embeddings and the pooled output embeddings.\n",
        "    return prompt_embeds, pooled_prompt_embeds"
      ]
    },
    {
      "cell_type": "markdown",
      "id": "ae1f2366",
      "metadata": {
        "id": "ae1f2366"
      },
      "source": [
        "#### 6.4: TEXT EMBEDDING ENSEMBLE METHOD\n",
        "\n",
        "In order to **enhance** the **model’s understanding** and **representation** of the **input text**, we proceed to generate and process text embeddings for a given prompt using **2 Different Text Tokenizers and Encoders**. We then prepares these embeddings and additional time IDs for conditioning within the StableDiffusionXLPipeline. We then return a dictionary containing the pooled embeddings and generated time IDs, as well as the concatenated text embeddings.\n",
        "\n",
        "This choice has several advantages:\n",
        "- Richness of Representation\n",
        "- Combination of Different Models Strength\n",
        "- Reducing Overfitting\n",
        "- Enhancing Conditioning\n",
        "- Improving Performance\n",
        "\n",
        "In particular, the function receives the following **parameters**:\n",
        "- ***model***: An instance of StableDiffusionXLPipeline.\n",
        "- ***prompt***: A string containing the text prompt to be tokenized and embedded.\n",
        "\n",
        "The steps involved are:\n",
        "- **1) Get the Device**: Retrieve the device (e.g., CPU or GPU) on which the model is being executed.\n",
        "- **2) Generate Text Embeddings**: Generate text embeddings using two different pairs of tokenizers and text encoders.\n",
        "- **3) Concatenate Prompt Embeddings**: Concatenate the embeddings from the two sets of encoders along the last dimension.\n",
        "- **4) Get Text Encoder Projection Dimension**: Retrieve the projection dimension from the configuration of the second text encoder.\n",
        "- **5) Generate Additional Time IDs**: Generate additional time IDs required for conditioning.\n",
        "- **6) Prepare Additional Condition Keyword Arguments**: Checks if the input prompt is empty and handles this case.\n",
        "- **7) Return the Additional Condition Keyword Arguments and Concatenated Embeddings**: Return the prepared additional condition keyword arguments and concatenated prompt embeddings.\n"
      ]
    },
    {
      "cell_type": "code",
      "execution_count": null,
      "id": "51e2b8d6",
      "metadata": {
        "id": "51e2b8d6"
      },
      "outputs": [],
      "source": [
        "def _encode_text_sdxl(model: StableDiffusionXLPipeline, prompt: str) -> tuple[dict[str, T], T]:\n",
        "\n",
        "    # 1) Get the Device: Get the device (e.g., CPU or GPU) on which the model is being executed.\n",
        "    device = model._execution_device\n",
        "\n",
        "    # 2) Generate Text Embeddings:\n",
        "    # Generate text embeddings using the first set of tokenizer and text encoder.\n",
        "    prompt_embeds, pooled_prompt_embeds = _get_text_embeddings(prompt, model.tokenizer, model.text_encoder, device)\n",
        "\n",
        "    # Generate text embeddings using the second set of tokenizer and text encoder.\n",
        "    prompt_embeds_2, pooled_prompt_embeds2 = _get_text_embeddings(prompt, model.tokenizer_2, model.text_encoder_2, device)\n",
        "\n",
        "    # 3) Concatenate Prompt Embeddings: Concatenate the embeddings from both sets of encoders along the last dimension.\n",
        "    prompt_embeds = torch.cat((prompt_embeds, prompt_embeds_2), dim=-1)\n",
        "\n",
        "    # 4) Get Text Encoder Projection Dimension: Retrieve the projection dimension from the configuration of the second text encoder\n",
        "    text_encoder_projection_dim = model.text_encoder_2.config.projection_dim\n",
        "\n",
        "    # 5) Generate Additional Time IDs: Generate additional time IDs required for conditioning.\n",
        "    add_time_ids = model._get_add_time_ids((1024, 1024), (0, 0), (1024, 1024), torch.float16, text_encoder_projection_dim).to(device)\n",
        "\n",
        "    # 6) Prepare Additional Condition Keyword Arguments: Prepare additional condition keyword arguments required for the model.\n",
        "    added_cond_kwargs = {\"text_embeds\": pooled_prompt_embeds2, \"time_ids\": add_time_ids}\n",
        "\n",
        "    # 7) Return the Additional Condition Keyword Arguments and Concatenated Embeddings:Return the prepared additional condition keyword arguments and concatenated prompt embeddings\n",
        "    return added_cond_kwargs, prompt_embeds"
      ]
    },
    {
      "cell_type": "markdown",
      "id": "56e26237",
      "metadata": {
        "id": "56e26237"
      },
      "source": [
        "#### 6.5: TEXT EMBEDDING: NEGATIVE CONDITIONING TECHNIQUE\n",
        "\n",
        "We then proceed to **generate Text Embeddings** and **Conditioning Keywords** for both the **Given Prompt** and an **Empty Prompt** (used for **Negative Conditioning**). We concatenate these embeddings and keywords to create a combined representation that includes both positive and negative contexts.\n",
        "\n",
        "These input prompts are used to guide the generation process in diffusion models (through **Guidance**) and improving the quality of generated outputs by considering **what the model should not generate (negative conditioning)**.\n",
        "\n",
        "The **benefits** we get from this technique are:\n",
        "- **Balanced Representation**\n",
        "- **Improved Semantic Understanding**\n",
        "- **Reduction of Noise**\n",
        "\n",
        "In particular, the function receives the following **parameters**:\n",
        "- ***model***: An instance of StableDiffusionXLPipeline.\n",
        "- ***prompt***: A string containing the text prompt to be tokenized and embedded.\n",
        "\n",
        "The steps involved are:\n",
        "- **1) Encode Text with Given Prompt using Text Embedding Ensemble**: Generate text embeddings and conditioning keywords for the given text prompt.\n",
        "- **2) Encode Text with Empty Prompt**: Generate text embeddings and conditioning keywords for an empty prompt (negative conditioning).\n",
        "- **3) Concatenate Positive and Negative Embeddings**: Concatenate the embeddings from the negative and positive prompts.\n",
        "- **4) Concatenate Positive and Negative Conditioning Keyword**: Concatenate the conditioning keywords from the negative and positive prompts.\n",
        "- **5) Return Combined Conditioning Keywords and Embeddings**: Return the combined conditioning keywords and concatenated embeddings."
      ]
    },
    {
      "cell_type": "code",
      "execution_count": null,
      "id": "3c6b778d",
      "metadata": {
        "id": "3c6b778d"
      },
      "outputs": [],
      "source": [
        "def _encode_text_sdxl_with_negative(model: StableDiffusionXLPipeline, prompt: str) -> tuple[dict[str, T], T]:\n",
        "    # 1) Encode Text with Given Prompt using Text Embedding EnsembleEncode Text with Given Prompt: Generate text embeddings and conditioning keywords for the given prompt.\n",
        "    added_cond_kwargs, prompt_embeds = _encode_text_sdxl(model, prompt)\n",
        "\n",
        "    # 2) Encode Text with Empty Prompt: Generate text embeddings and conditioning keywords for an empty prompt (negative conditioning).\n",
        "    added_cond_kwargs_uncond, prompt_embeds_uncond = _encode_text_sdxl(model, \"\")\n",
        "\n",
        "    # 3) Concatenate Positive and Negative Embeddings: Concatenate the embeddings from the negative and positive prompts.\n",
        "    prompt_embeds = torch.cat((prompt_embeds_uncond, prompt_embeds))\n",
        "\n",
        "    # 4) Concatenate Positive and Negative Conditioning Keywords: Concatenate the conditioning keywords from the negative and positive prompts.\n",
        "    added_cond_kwargs = {\n",
        "        \"text_embeds\": torch.cat((added_cond_kwargs_uncond[\"text_embeds\"], added_cond_kwargs[\"text_embeds\"])),\n",
        "        \"time_ids\": torch.cat((added_cond_kwargs_uncond[\"time_ids\"], added_cond_kwargs[\"time_ids\"]))\n",
        "    }\n",
        "\n",
        "    # 5) Return Combined Conditioning Keywords and Embeddings: Return the combined conditioning keywords and concatenated embeddings.\n",
        "    return added_cond_kwargs, prompt_embeds"
      ]
    },
    {
      "cell_type": "markdown",
      "id": "03e4ec2c",
      "metadata": {
        "id": "03e4ec2c"
      },
      "source": [
        "#### 6.6: ENCODE THE REFERENCE IMAGE\n",
        "\n",
        "We now switch our attention to the **Reference Image**. This is now processed and **encoded** using the **Variational Autoencoder (VAE)** of the **StableDiffusionXLPipeline**, and returns the resulting **latent representation**. The function handles the conversion of the image from a numpy array to a PyTorch tensor, normalizes it, encodes it using the VAE, and finally scales the latent representation.\n",
        "\n",
        "The steps involved are:\n",
        "- **1) Set VAE to Float32**: Ensure the VAE operates in float32 precision for encoding.\n",
        "- **2) Convert Image to PyTorch Tensor**: Convert the input image from a numpy array to a PyTorch tensor and normalize pixel values to [0, 1].\n",
        "- **3) Normalize and Prepare Image**: Scale pixel values to the range [-1, 1], rearrange dimensions, and add a batch dimension.\n",
        "- **4) Encode Image Using VAE**: Use the VAE to encode the image into the latent space.\n",
        "- **5) Reset VAE to Float16**: Optionally reset the VAE to float16 precision.\n",
        "- **6) Return Latent Representation** : Return the encoded latent representation of the image.\n"
      ]
    },
    {
      "cell_type": "code",
      "execution_count": null,
      "id": "64c0c336",
      "metadata": {
        "id": "64c0c336"
      },
      "outputs": [],
      "source": [
        "def _encode_image(model: StableDiffusionXLPipeline, image: np.ndarray) -> T:\n",
        "    # 1) Set VAE to Float32: Ensure the VAE operates in float32 precision for encoding.\n",
        "    model.vae.to(dtype=torch.float32)\n",
        "\n",
        "    # 2) Convert Image to PyTorch Tensor: Convert the input image from a numpy array to a PyTorch tensor and normalize pixel values to [0, 1].\n",
        "    image = torch.from_numpy(image).float() / 255.\n",
        "\n",
        "    # 3) Normalize and Prepare Image: Scale pixel values to the range [-1, 1], rearrange dimensions, and add batch dimension.\n",
        "    image = (image * 2 - 1).permute(2, 0, 1).unsqueeze(0)\n",
        "\n",
        "    # 4) Encode Image Using VAE: Use the VAE to encode the image into the latent space.\n",
        "    latent = model.vae.encode(image.to(model.vae.device))['latent_dist'].mean * model.vae.config.scaling_factor\n",
        "\n",
        "    # 5) Reset VAE to Float16: Optionally reset the VAE to float16 precision.\n",
        "    model.vae.to(dtype=torch.float16)\n",
        "\n",
        "    # 6) Return Latent Representation: Return the encoded latent representation of the image.\n",
        "    return latent"
      ]
    },
    {
      "cell_type": "markdown",
      "id": "164b2f77",
      "metadata": {
        "id": "164b2f77"
      },
      "source": [
        "#### 6.7: SINGLE DENOISING STEP in DIFFUSION PROCESS\n",
        "\n",
        "We now focus on performing a **Single Denoising Step** in the **Diffusion Process**. It calculates the next sample based on the current sample, the model output, and the current timestep. This function helps in progressing the denoising process step by step, gradually transforming the noisy sample back into the original image.\n",
        "\n",
        "The steps involved are:\n",
        "- **1) Calculate Current and Next Timesteps**: Compute the current and next timesteps for the denoising process.\n",
        "- **2) Calculate Alpha Products**: Retrieve the alpha cumulative product for the current and next timesteps.\n",
        "- **3) Calculate Beta Product**: Compute the beta cumulative product for the current timestep.\n",
        "- **4) Compute Next Original Sample**: Calculate the next original sample using the current sample and model output.\n",
        "- **5) Compute Next Sample Direction**: Determine the direction for the next sample.\n",
        "- **6) Compute Next Sample**: Combine the next original sample and next sample direction to get the next sample.\n",
        "- **7) Return Next Sample**: Return the computed next sample."
      ]
    },
    {
      "cell_type": "code",
      "execution_count": null,
      "id": "5c4a9a94",
      "metadata": {
        "id": "5c4a9a94"
      },
      "outputs": [],
      "source": [
        "def _next_step(model: StableDiffusionXLPipeline, model_output: T, timestep: int, sample: T) -> T:\n",
        "\n",
        "    # 1) Calculate Current and Next Timesteps: Compute the current and next timesteps for the denoising process.\n",
        "    timestep, next_timestep = min(timestep - model.scheduler.config.num_train_timesteps // model.scheduler.num_inference_steps, 999), timestep\n",
        "\n",
        "    # 2) Calculate Alpha Products: Retrieve the alpha cumulative product for the current and next timesteps.\n",
        "    alpha_prod_t = model.scheduler.alphas_cumprod[int(timestep)] if timestep >= 0 else model.scheduler.final_alpha_cumprod\n",
        "    alpha_prod_t_next = model.scheduler.alphas_cumprod[int(next_timestep)]\n",
        "\n",
        "    # 3) Calculate Beta Product: Compute the beta cumulative product for the current timestep.\n",
        "    beta_prod_t = 1 - alpha_prod_t\n",
        "\n",
        "    # 4) Compute Next Original Sample: Calculate the next original sample using the current sample and model output.\n",
        "    next_original_sample = (sample - beta_prod_t ** 0.5 * model_output) / alpha_prod_t ** 0.5\n",
        "\n",
        "    # 5) Compute Next Sample Direction: Determine the direction for the next sample.\n",
        "    next_sample_direction = (1 - alpha_prod_t_next) ** 0.5 * model_output\n",
        "\n",
        "    # 6) Compute Next Sample: Combine the next original sample and next sample direction to get the next sample.\n",
        "    next_sample = alpha_prod_t_next ** 0.5 * next_original_sample + next_sample_direction\n",
        "\n",
        "    # 7) Return Next Sample: Return the computed next sample.\n",
        "    return next_sample"
      ]
    },
    {
      "cell_type": "markdown",
      "id": "88ae2f83",
      "metadata": {
        "id": "88ae2f83"
      },
      "source": [
        "#### 6.8: GENERATE NOISE PREDICTIONS\n",
        "\n",
        "We now focus on generating **Noise Predictions** for the **given Latent Representation** at a specific timestep. We use a **Guidance Scale** to **combine Unconditional and Conditional Noise Predictions**, which helps guide the model in generating outputs that are closer to the desired result.\n",
        "\n",
        "The steps involved are:\n",
        "- **1) Duplicate Latent Input**: Create a batch of two identical latent representations.\n",
        "- **2) Generate Noise Predictions**: Use the model’s UNet to generate noise predictions for the duplicated latents.\n",
        "- **3) Split Noise Predictions**: Split the noise predictions into unconditional and conditional components.\n",
        "- **4) Apply Guidance**: Combine the unconditional and conditional noise predictions using the guidance scale.\n",
        "- **5) Return Noise Prediction**: Return the combined noise prediction."
      ]
    },
    {
      "cell_type": "code",
      "execution_count": null,
      "id": "a4654dac",
      "metadata": {
        "id": "a4654dac"
      },
      "outputs": [],
      "source": [
        "def _get_noise_pred(model: StableDiffusionXLPipeline, latent: T, t: T, context: T, guidance_scale: float, added_cond_kwargs: dict[str, T]):\n",
        "    # 1) Duplicate Latent Input: Create a batch of two identical latent representations.\n",
        "    latents_input = torch.cat([latent] * 2)\n",
        "\n",
        "    # 2) Generate Noise Predictions: Use the model's UNet to generate noise predictions for the duplicated latents.\n",
        "    noise_pred = model.unet(latents_input, t, encoder_hidden_states=context, added_cond_kwargs=added_cond_kwargs)[\"sample\"]\n",
        "\n",
        "    # 3) Split Noise Predictions: Split the noise predictions into unconditional and conditional components.\n",
        "    noise_pred_uncond, noise_prediction_text = noise_pred.chunk(2)\n",
        "\n",
        "    # 4) Apply Guidance: Combine the unconditional and conditional noise predictions using the guidance scale.\n",
        "    noise_pred = noise_pred_uncond + guidance_scale * (noise_prediction_text - noise_pred_uncond)\n",
        "\n",
        "    # 5) Return Noise Prediction: Return the combined noise prediction.\n",
        "    return noise_pred"
      ]
    },
    {
      "cell_type": "markdown",
      "id": "6ce4abd4",
      "metadata": {
        "id": "6ce4abd4"
      },
      "source": [
        "#### 6.9: DDIM (Denoising Diffusion Implicit Models) Denoising Process\n",
        "\n",
        "We can now focus on the **DDIM (Denoising Diffusion Implicit Models) Denoising Process**. It iteratively refines the latent representation of an image starting from an initial noisy latent (z0), using noise predictions and timesteps to generate a sequence of progressively denoised latents. The function returns the sequence of latents from the denoising process.\n",
        "\n",
        "The steps involved are:\n",
        "- **1) Initialize Latent List**: Start with the initial latent representation (z0).\n",
        "- **2) Encode Text with Negative Conditioning**: Generate text embeddings and conditioning keywords for the prompt, including also negative conditioning.\n",
        "- **3) Prepare Latent for Inference**: Clone and detach the initial latent, and convert it to half precision.\n",
        "- **4) Denoising Loop**: Perform the denoising process over the specified number of inference steps.\n",
        "\t- **4.1) Get Current Timestep**: Retrieve the current timestep.\n",
        "\t- **4.2) Generate Noise Prediction**: Use the model to predict noise for the current latent and timestep.\n",
        "\t- **4.3) Compute Next Latent**: Compute the next latent representation using the noise prediction.\n",
        "\t- **4.4) Append Latent to List**: Append the new latent to the list of all latents.\n",
        "- **5) Return Sequence of Latents**: Concatenate all latents and reverse their order."
      ]
    },
    {
      "cell_type": "code",
      "execution_count": null,
      "id": "5f3aeb12",
      "metadata": {
        "id": "5f3aeb12"
      },
      "outputs": [],
      "source": [
        "def _ddim_loop(model: StableDiffusionXLPipeline, z0, prompt, guidance_scale) -> T:\n",
        "    # 1) Initialize Latent List: Start with the initial latent representation.\n",
        "    all_latent = [z0]\n",
        "\n",
        "    # 2) Encode Text with Negative Conditioning: Generate text embeddings and conditioning keywords for the prompt, including also negative conditioning.\n",
        "    added_cond_kwargs, text_embedding = _encode_text_sdxl_with_negative(model, prompt)\n",
        "\n",
        "    # 3) Prepare Latent for Inference: Clone and detach the initial latent, and convert it to half precision.\n",
        "    latent = z0.clone().detach().half()\n",
        "\n",
        "    # 4) Denoising Loop: Perform the denoising process over the specified number of inference steps.\n",
        "    for i in tqdm(range(model.scheduler.num_inference_steps)):\n",
        "        # 4.1) Get Current Timestep: Retrieve the current timestep.\n",
        "        t = model.scheduler.timesteps[len(model.scheduler.timesteps) - i - 1]\n",
        "\n",
        "        # 4.2) Generate Noise Prediction: Use the model to predict noise for the current latent and timestep.\n",
        "        noise_pred = _get_noise_pred(model, latent, t, text_embedding, guidance_scale, added_cond_kwargs)\n",
        "\n",
        "        # 4.3) Compute Next Latent: Compute the next latent representation using the noise prediction.\n",
        "        latent = _next_step(model, noise_pred, t, latent)\n",
        "\n",
        "        # 4.4) Append Latent to List: Append the new latent to the list of all latents.\n",
        "        all_latent.append(latent)\n",
        "\n",
        "    # 5) Return Sequence of Latents: Concatenate all latents and reverse their order.\n",
        "    return torch.cat(all_latent).flip(0)"
      ]
    },
    {
      "cell_type": "markdown",
      "id": "3221446d",
      "metadata": {
        "id": "3221446d"
      },
      "source": [
        "#### 6.10:  UPDATE LATENT TENSORS CALLBACK\n",
        "\n",
        "We focus now on creating a **Callback Function** that **updates the Latent Tensors** during the **Diffusion Process**. This callback is used to replace the current latent with a precomputed latent at each step, ensuring that the diffusion process follows a predefined path.\n",
        "\n",
        "The steps involved are:\n",
        "- **1) Define Callback Function**: Define a callback function to be called at the end of each diffusion step.\n",
        "\t- **1.1) Retrieve Current Latents**: Extract the current latents from the callback arguments.\n",
        "\t- **1.2) Update Latent**: Replace the first latent with a precomputed latent from the zts list.\n",
        "\t- **1.3) Return Updated Latents**: Return the updated latents.\n",
        "- **2) Return Initial Latent and Callback**: Return the initial latent and the callback function."
      ]
    },
    {
      "cell_type": "code",
      "execution_count": null,
      "id": "75a16164",
      "metadata": {
        "id": "75a16164"
      },
      "outputs": [],
      "source": [
        "def make_inversion_callback(zts, offset: int = 0) -> [T, InversionCallback]:\n",
        "    # 1) Define Callback Function: Define a callback function to be called at the end of each diffusion step.\n",
        "    def callback_on_step_end(pipeline: StableDiffusionXLPipeline, i: int, t: T, callback_kwargs: dict[str, T]) -> dict[str, T]:\n",
        "        # 1.1) Retrieve Current Latents: Extract the current latents from the callback arguments.\n",
        "        latents = callback_kwargs['latents']\n",
        "\n",
        "        # 1.2) Update Latent: Replace the first latent with a precomputed latent from the zts list.\n",
        "        latents[0] = zts[max(offset + 1, i + 1)].to(latents.device, latents.dtype)\n",
        "\n",
        "        # 1.3) Return Updated Latents: Return the updated latents.\n",
        "        return {'latents': latents}\n",
        "\n",
        "    # 2) Return Initial Latent and Callback: Return the initial latent and the callback function.\n",
        "    return zts[offset], callback_on_step_end"
      ]
    },
    {
      "cell_type": "markdown",
      "id": "efc89d45",
      "metadata": {
        "id": "efc89d45"
      },
      "source": [
        "#### 6.11: DDIM Inversion Process\n",
        "\n",
        "We can now put all together and perform the the **DDIM (Denoising Diffusion Implicit Models) Inversion Process**. It starts by encoding the input image into a latent representation, sets the timesteps for the diffusion process, and then iteratively refines the latent representation using the DDIM loop. The final output is a sequence of latent representations.\n",
        "\n",
        "The steps involved are:\n",
        "- **1) Encode Image**: Encode the input image into a latent representation using the model’s VAE.\n",
        "- **2) Set Timesteps**: Set the timesteps for the diffusion process.\n",
        "- **3) Perform DDIM Loop**: Perform the DDIM denoising loop to generate a sequence of latent representations.\n",
        "- **4) Return Sequence of Latents**: Return the sequence of latent representations generated by the DDIM loop."
      ]
    },
    {
      "cell_type": "code",
      "execution_count": null,
      "id": "35b8cae1",
      "metadata": {
        "id": "35b8cae1"
      },
      "outputs": [],
      "source": [
        "@torch.no_grad()\n",
        "def ddim_inversion(model: StableDiffusionXLPipeline, x0: np.ndarray, prompt: str, num_inference_steps: int, guidance_scale: float) -> T:\n",
        "    # 1) Encode Image: Encode the input image into a latent representation using the model's VAE.\n",
        "    z0 = _encode_image(model, x0)\n",
        "\n",
        "    # 2) Set Timesteps: Set the timesteps for the diffusion process.\n",
        "    model.scheduler.set_timesteps(num_inference_steps, device=z0.device)\n",
        "\n",
        "    # 3) Perform DDIM Loop: Perform the DDIM denoising loop to generate a sequence of latent representations.\n",
        "    zs = _ddim_loop(model, z0, prompt, guidance_scale)\n",
        "\n",
        "    # 4) Return Sequence of Latents: Return the sequence of latent representations generated by the DDIM loop.\n",
        "    return zs"
      ]
    },
    {
      "cell_type": "markdown",
      "id": "72621c0e",
      "metadata": {
        "id": "72621c0e"
      },
      "source": [
        "#### 7: DIFFUSION INVERSION PROCESS MAIN\n",
        "\n",
        "\n",
        "In this section, we will undergo the **Diffusion Inversion Process** in order to **align the style of generated images with a reference style**. This process involves several key steps:\n",
        "\n",
        "\n",
        "1. **Set Prompts**:\n",
        "   - We define a set of prompts for generating images. The first prompt refers to the reference image, while the subsequent prompts are used to generate new images.\n",
        "   - The reference style is appended to each of the subsequent prompts to ensure the generated images adhere to the desired style.\n",
        "\n",
        "2. **Configure Style Alignment Handler**:\n",
        "   - We initialize a handler for the Style Aligned (SA) model and configure it using the `StyleAlignedArgs` parameters. These parameters control various aspects of the style alignment process, such as normalization and attention mechanisms.\n",
        "\n",
        "3. **Run Diffusion Inversion**:\n",
        "   - We execute the DDIM inversion process to map the reference image to its latent representation. This inversion allows us to extract latent features that can be used to guide the generation of new images in the desired style.\n",
        "\n",
        "4. **Generate Images**:\n",
        "   - Using the latent representation obtained from the inversion process, we generate new images based on the defined prompts. We will generate random latent vectors of shape (number_of_prompts, 4, 128, 128) from a normal distribution. We will make use of generator to ensure that the random values are reproducible. In this step, I will have also to ensure that the latent vectors have the same data type as required by the model’s UNet.\n",
        "   After this, we will set the first latent vector to the one extracted from the reference image, ensuring that the first generated image closely adheres to the reference style.\n",
        "   The latent features of the reference image are combined with the prompts to produce images that are stylistically aligned with the reference image.\n",
        "\n",
        "5. **Display Results**:\n",
        "   - Finally, we display the generated images to visualize the effect of the style alignment.\n",
        "\n",
        "This process demonstrates how to leverage the power of diffusion models and inversion techniques to generate images with consistent and coherent styles, guided by a reference image."
      ]
    },
    {
      "cell_type": "code",
      "execution_count": null,
      "id": "6b030817",
      "metadata": {
        "id": "6b030817"
      },
      "outputs": [],
      "source": [
        "# Set of prompts to generate images for. The first refers to the Reference Image. The other to generate images.\n",
        "prompts = [\n",
        "    reference_prompt,\n",
        "    \"A man working on a laptop\",\n",
        "    \"A man eats pizza\",\n",
        "    \"A woman playig on saxophone\",\n",
        "]\n",
        "\n",
        "# Append the reference style to each of subsequent prompts for generating images with the same Style.\n",
        "for i in range(1, len(prompts)):\n",
        "    prompts[i] = f'{prompts[i]}, {reference_style}.'\n",
        "\n",
        "# Configure the StyleAligned Handler using the StyleAlignedArgs.\n",
        "handler = Handler(SDXL_Pipeline)\n",
        "sa_args = StyleAlignedArgs(\n",
        "    share_group_norm=True,\n",
        "    share_layer_norm=True,\n",
        "    share_attention=True,\n",
        "    adain_queries=True,\n",
        "    adain_keys=True,\n",
        "    adain_values=False,\n",
        "    style_alignment_score_shift=np.log(style_alignment_score_shift),\n",
        "    style_alignment_score_scale=style_alignment_score_scale)\n",
        "handler.register(sa_args)"
      ]
    },
    {
      "cell_type": "code",
      "execution_count": null,
      "id": "5ecb36ed",
      "metadata": {
        "id": "5ecb36ed"
      },
      "outputs": [],
      "source": [
        "# Execute the Diffusion Inversion Process to map the reference image to its latent representation.\n",
        "DDIM_inv_result = ddim_inversion(SDXL_Pipeline, ref_image, reference_prompt, num_inference_steps, 2)\n",
        "\n",
        "# Extract the latent representation from the Diffusion Inversion Result that can be used to guide the generation of new images in the desired style.\n",
        "latent_vector_ref_img, inversion_callback = make_inversion_callback(DDIM_inv_result, offset=5)\n",
        "\n",
        "# Create a Random Number Generator on the CPU.\n",
        "rand_gen = torch.Generator(device='cpu').manual_seed(31)\n",
        "\n",
        "# Generate the images using the latent representation of the reference image as guidance.\n",
        "latents = torch.randn(len(prompts), 4, 128, 128,            # Random Latent Vectors shape\n",
        "                      device='cpu',                         # Latent Vectors on CPU.\n",
        "                      generator=rand_gen,                   # Random Number Generator.\n",
        "                      dtype=SDXL_Pipeline.unet.dtype,).to('cuda:0') # Data Type of the Latent Vectors (same as required by the model's UNet).\n",
        "\n",
        "# Set the first latent vector to the latent representation of the reference image extracted before.\n",
        "latents[0] = latent_vector_ref_img\n",
        "\n",
        "# Generate the images using the provided prompts and the latent vectors.\n",
        "images_a = SDXL_Pipeline(\n",
        "    prompts,                                 # Prompts to generate images for.\n",
        "    latents=latents,                         # Latent Vectors to guide the generation of images.\n",
        "    callback_on_step_end=inversion_callback, # Callback to update the latent vectors during the generation process.\n",
        "    num_inference_steps=num_inference_steps, # Number of Inference Steps to generate the images.\n",
        "    guidance_scale=guidance_scale).images              # Guidance Scale to control the influence of the latent vectors on the generated images.\n",
        "\n",
        "# Display the generated images.\n",
        "handler.remove()\n",
        "mediapy.show_images(images_a, titles=[p[:-(len(reference_style) + 3)] for p in prompts])"
      ]
    }
  ],
  "metadata": {
    "colab": {
      "provenance": []
    },
    "kernelspec": {
      "display_name": "Python 3",
      "name": "python3"
    },
    "language_info": {
      "codemirror_mode": {
        "name": "ipython",
        "version": 3
      },
      "file_extension": ".py",
      "mimetype": "text/x-python",
      "name": "python",
      "nbconvert_exporter": "python",
      "pygments_lexer": "ipython3",
      "version": "3.11.5"
    },
    "widgets": {
      "application/vnd.jupyter.widget-state+json": {
        "1250b69ca7854136a792a2fc6280197a": {
          "model_module": "@jupyter-widgets/base",
          "model_module_version": "1.2.0",
          "model_name": "LayoutModel",
          "state": {
            "_model_module": "@jupyter-widgets/base",
            "_model_module_version": "1.2.0",
            "_model_name": "LayoutModel",
            "_view_count": null,
            "_view_module": "@jupyter-widgets/base",
            "_view_module_version": "1.2.0",
            "_view_name": "LayoutView",
            "align_content": null,
            "align_items": null,
            "align_self": null,
            "border": null,
            "bottom": null,
            "display": null,
            "flex": null,
            "flex_flow": null,
            "grid_area": null,
            "grid_auto_columns": null,
            "grid_auto_flow": null,
            "grid_auto_rows": null,
            "grid_column": null,
            "grid_gap": null,
            "grid_row": null,
            "grid_template_areas": null,
            "grid_template_columns": null,
            "grid_template_rows": null,
            "height": null,
            "justify_content": null,
            "justify_items": null,
            "left": null,
            "margin": null,
            "max_height": null,
            "max_width": null,
            "min_height": null,
            "min_width": null,
            "object_fit": null,
            "object_position": null,
            "order": null,
            "overflow": null,
            "overflow_x": null,
            "overflow_y": null,
            "padding": null,
            "right": null,
            "top": null,
            "visibility": null,
            "width": "20px"
          }
        },
        "169c007fe65c4963bc27aab517b24cb8": {
          "model_module": "@jupyter-widgets/controls",
          "model_module_version": "1.5.0",
          "model_name": "HTMLModel",
          "state": {
            "_dom_classes": [],
            "_model_module": "@jupyter-widgets/controls",
            "_model_module_version": "1.5.0",
            "_model_name": "HTMLModel",
            "_view_count": null,
            "_view_module": "@jupyter-widgets/controls",
            "_view_module_version": "1.5.0",
            "_view_name": "HTMLView",
            "description": "",
            "description_tooltip": null,
            "layout": "IPY_MODEL_1ddcfcc473fe434c96afec08ab6d4c91",
            "placeholder": "​",
            "style": "IPY_MODEL_354313f61a1c4b6dae6c04379863f839",
            "value": ""
          }
        },
        "1ddcfcc473fe434c96afec08ab6d4c91": {
          "model_module": "@jupyter-widgets/base",
          "model_module_version": "1.2.0",
          "model_name": "LayoutModel",
          "state": {
            "_model_module": "@jupyter-widgets/base",
            "_model_module_version": "1.2.0",
            "_model_name": "LayoutModel",
            "_view_count": null,
            "_view_module": "@jupyter-widgets/base",
            "_view_module_version": "1.2.0",
            "_view_name": "LayoutView",
            "align_content": null,
            "align_items": null,
            "align_self": null,
            "border": null,
            "bottom": null,
            "display": null,
            "flex": null,
            "flex_flow": null,
            "grid_area": null,
            "grid_auto_columns": null,
            "grid_auto_flow": null,
            "grid_auto_rows": null,
            "grid_column": null,
            "grid_gap": null,
            "grid_row": null,
            "grid_template_areas": null,
            "grid_template_columns": null,
            "grid_template_rows": null,
            "height": null,
            "justify_content": null,
            "justify_items": null,
            "left": null,
            "margin": null,
            "max_height": null,
            "max_width": null,
            "min_height": null,
            "min_width": null,
            "object_fit": null,
            "object_position": null,
            "order": null,
            "overflow": null,
            "overflow_x": null,
            "overflow_y": null,
            "padding": null,
            "right": null,
            "top": null,
            "visibility": null,
            "width": null
          }
        },
        "354313f61a1c4b6dae6c04379863f839": {
          "model_module": "@jupyter-widgets/controls",
          "model_module_version": "1.5.0",
          "model_name": "DescriptionStyleModel",
          "state": {
            "_model_module": "@jupyter-widgets/controls",
            "_model_module_version": "1.5.0",
            "_model_name": "DescriptionStyleModel",
            "_view_count": null,
            "_view_module": "@jupyter-widgets/base",
            "_view_module_version": "1.2.0",
            "_view_name": "StyleView",
            "description_width": ""
          }
        },
        "4ca2f1f6040d4d20937812ed2dee8dd5": {
          "model_module": "@jupyter-widgets/base",
          "model_module_version": "1.2.0",
          "model_name": "LayoutModel",
          "state": {
            "_model_module": "@jupyter-widgets/base",
            "_model_module_version": "1.2.0",
            "_model_name": "LayoutModel",
            "_view_count": null,
            "_view_module": "@jupyter-widgets/base",
            "_view_module_version": "1.2.0",
            "_view_name": "LayoutView",
            "align_content": null,
            "align_items": null,
            "align_self": null,
            "border": null,
            "bottom": null,
            "display": null,
            "flex": null,
            "flex_flow": null,
            "grid_area": null,
            "grid_auto_columns": null,
            "grid_auto_flow": null,
            "grid_auto_rows": null,
            "grid_column": null,
            "grid_gap": null,
            "grid_row": null,
            "grid_template_areas": null,
            "grid_template_columns": null,
            "grid_template_rows": null,
            "height": null,
            "justify_content": null,
            "justify_items": null,
            "left": null,
            "margin": null,
            "max_height": null,
            "max_width": null,
            "min_height": null,
            "min_width": null,
            "object_fit": null,
            "object_position": null,
            "order": null,
            "overflow": null,
            "overflow_x": null,
            "overflow_y": null,
            "padding": null,
            "right": null,
            "top": null,
            "visibility": null,
            "width": null
          }
        },
        "5f7997cd2b0b4136a86e3be938138ef4": {
          "model_module": "@jupyter-widgets/controls",
          "model_module_version": "1.5.0",
          "model_name": "HBoxModel",
          "state": {
            "_dom_classes": [],
            "_model_module": "@jupyter-widgets/controls",
            "_model_module_version": "1.5.0",
            "_model_name": "HBoxModel",
            "_view_count": null,
            "_view_module": "@jupyter-widgets/controls",
            "_view_module_version": "1.5.0",
            "_view_name": "HBoxView",
            "box_style": "",
            "children": [
              "IPY_MODEL_169c007fe65c4963bc27aab517b24cb8",
              "IPY_MODEL_995f9f48a02f498f90306eebcb2cda8e",
              "IPY_MODEL_f5eaa36e07c148c3a670a983fa34d2ea"
            ],
            "layout": "IPY_MODEL_fc1629ba1f0442da9187f7c431317091"
          }
        },
        "7426a510d3a64b31b4172ed67de9ca01": {
          "model_module": "@jupyter-widgets/controls",
          "model_module_version": "1.5.0",
          "model_name": "ProgressStyleModel",
          "state": {
            "_model_module": "@jupyter-widgets/controls",
            "_model_module_version": "1.5.0",
            "_model_name": "ProgressStyleModel",
            "_view_count": null,
            "_view_module": "@jupyter-widgets/base",
            "_view_module_version": "1.2.0",
            "_view_name": "StyleView",
            "bar_color": null,
            "description_width": ""
          }
        },
        "995f9f48a02f498f90306eebcb2cda8e": {
          "model_module": "@jupyter-widgets/controls",
          "model_module_version": "1.5.0",
          "model_name": "FloatProgressModel",
          "state": {
            "_dom_classes": [],
            "_model_module": "@jupyter-widgets/controls",
            "_model_module_version": "1.5.0",
            "_model_name": "FloatProgressModel",
            "_view_count": null,
            "_view_module": "@jupyter-widgets/controls",
            "_view_module_version": "1.5.0",
            "_view_name": "ProgressView",
            "bar_style": "success",
            "description": "",
            "description_tooltip": null,
            "layout": "IPY_MODEL_1250b69ca7854136a792a2fc6280197a",
            "max": 1,
            "min": 0,
            "orientation": "horizontal",
            "style": "IPY_MODEL_7426a510d3a64b31b4172ed67de9ca01",
            "value": 0
          }
        },
        "f351d052c36848c3b15a50c0e13c9e68": {
          "model_module": "@jupyter-widgets/controls",
          "model_module_version": "1.5.0",
          "model_name": "DescriptionStyleModel",
          "state": {
            "_model_module": "@jupyter-widgets/controls",
            "_model_module_version": "1.5.0",
            "_model_name": "DescriptionStyleModel",
            "_view_count": null,
            "_view_module": "@jupyter-widgets/base",
            "_view_module_version": "1.2.0",
            "_view_name": "StyleView",
            "description_width": ""
          }
        },
        "f5eaa36e07c148c3a670a983fa34d2ea": {
          "model_module": "@jupyter-widgets/controls",
          "model_module_version": "1.5.0",
          "model_name": "HTMLModel",
          "state": {
            "_dom_classes": [],
            "_model_module": "@jupyter-widgets/controls",
            "_model_module_version": "1.5.0",
            "_model_name": "HTMLModel",
            "_view_count": null,
            "_view_module": "@jupyter-widgets/controls",
            "_view_module_version": "1.5.0",
            "_view_name": "HTMLView",
            "description": "",
            "description_tooltip": null,
            "layout": "IPY_MODEL_4ca2f1f6040d4d20937812ed2dee8dd5",
            "placeholder": "​",
            "style": "IPY_MODEL_f351d052c36848c3b15a50c0e13c9e68",
            "value": " 0/0 [00:00&lt;?, ?it/s]"
          }
        },
        "fc1629ba1f0442da9187f7c431317091": {
          "model_module": "@jupyter-widgets/base",
          "model_module_version": "1.2.0",
          "model_name": "LayoutModel",
          "state": {
            "_model_module": "@jupyter-widgets/base",
            "_model_module_version": "1.2.0",
            "_model_name": "LayoutModel",
            "_view_count": null,
            "_view_module": "@jupyter-widgets/base",
            "_view_module_version": "1.2.0",
            "_view_name": "LayoutView",
            "align_content": null,
            "align_items": null,
            "align_self": null,
            "border": null,
            "bottom": null,
            "display": null,
            "flex": null,
            "flex_flow": null,
            "grid_area": null,
            "grid_auto_columns": null,
            "grid_auto_flow": null,
            "grid_auto_rows": null,
            "grid_column": null,
            "grid_gap": null,
            "grid_row": null,
            "grid_template_areas": null,
            "grid_template_columns": null,
            "grid_template_rows": null,
            "height": null,
            "justify_content": null,
            "justify_items": null,
            "left": null,
            "margin": null,
            "max_height": null,
            "max_width": null,
            "min_height": null,
            "min_width": null,
            "object_fit": null,
            "object_position": null,
            "order": null,
            "overflow": null,
            "overflow_x": null,
            "overflow_y": null,
            "padding": null,
            "right": null,
            "top": null,
            "visibility": null,
            "width": null
          }
        }
      }
    }
  },
  "nbformat": 4,
  "nbformat_minor": 5
}